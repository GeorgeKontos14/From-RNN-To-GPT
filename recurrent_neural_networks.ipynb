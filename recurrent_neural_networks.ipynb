{
 "cells": [
  {
   "cell_type": "code",
   "execution_count": null,
   "id": "e0624e72",
   "metadata": {},
   "outputs": [],
   "source": [
    "import torch\n",
    "import matplotlib.pyplot as plt\n",
    "import numpy as np\n",
    "\n",
    "from src.recurrent_networks import RNN, BiNN, LSTM, GRU"
   ]
  },
  {
   "cell_type": "markdown",
   "id": "a3a6c86f",
   "metadata": {},
   "source": [
    "## Sequence Forecasting with Recurrent Neural Networks"
   ]
  },
  {
   "cell_type": "markdown",
   "id": "a88eab1a",
   "metadata": {},
   "source": [
    "Step 1: Sequence Generation"
   ]
  },
  {
   "cell_type": "code",
   "execution_count": null,
   "id": "5012bdd5",
   "metadata": {},
   "outputs": [],
   "source": [
    "def generate_sequence(T=50, d=3, q=1):\n",
    "    \"\"\"Generate ONE (T,d) input and (T,q) output sequence\"\"\"\n",
    "    t = np.linspace(0, 10, T)\n",
    "    X = np.zeros((T, d))\n",
    "    Y = np.zeros((T, q))\n",
    "    \n",
    "    # Create d input features\n",
    "    for feature in range(d):\n",
    "        freq = np.random.uniform(0.1, 0.5)\n",
    "        phase = np.random.uniform(0, 2*np.pi)\n",
    "        X[:, feature] = np.sin(2*np.pi*freq*t + phase) + 0.1*np.random.randn(T)\n",
    "    \n",
    "    # Create output (simple linear combination)\n",
    "    Y[:, 0] = 0.5*X[:, 0] + 0.3*X[:, 1] - 0.2*X[:, 2]\n",
    "    return torch.FloatTensor(X), torch.FloatTensor(Y)"
   ]
  },
  {
   "cell_type": "code",
   "execution_count": null,
   "id": "f774c6ad",
   "metadata": {},
   "outputs": [],
   "source": [
    "# Generate data\n",
    "X_train, Y_train = generate_sequence(T=50, d=3, q=1)  # Single sequence\n",
    "X_test, Y_test = generate_sequence(T=50, d=3, q=1)     # Another single sequence\n",
    "\n",
    "print(\"Shapes:\")\n",
    "print(f\"X_train: {X_train.shape} (should be (T,d))\")\n",
    "print(f\"Y_train: {Y_train.shape} (should be (T,q))\")"
   ]
  },
  {
   "cell_type": "markdown",
   "id": "6f0c9dac",
   "metadata": {},
   "source": [
    "Step 2: Model Initialization and Training"
   ]
  },
  {
   "cell_type": "code",
   "execution_count": null,
   "id": "3e882aab",
   "metadata": {},
   "outputs": [],
   "source": [
    "rnn = RNN(d=3, p=32, k=2, q=1)\n",
    "binn = BiNN(d=3, p=32, k=2, q=1)\n",
    "gru = GRU(d=3, p=32, k=2, q=1) \n",
    "lstm = LSTM(d=3, p=32, k=2, q=1)"
   ]
  },
  {
   "cell_type": "code",
   "execution_count": null,
   "id": "65dae9c3",
   "metadata": {},
   "outputs": [],
   "source": [
    "rnn_history= rnn.fit(X_train, Y_train, \n",
    "         alpha=0.1, epochs=250, verbose=False, decay=\"exp\")\n",
    "binn_history = binn.fit(X_train, Y_train, \n",
    "         alpha=0.1, epochs=250, verbose=False, decay=\"exp\")\n",
    "gru_history = gru.fit(X_train, Y_train, \n",
    "         alpha=0.1, epochs=250, verbose=False, decay=\"exp\")\n",
    "lstm_history = lstm.fit(X_train, Y_train, \n",
    "         alpha=0.1, epochs=250, verbose=False, decay=\"exp\")"
   ]
  },
  {
   "cell_type": "markdown",
   "id": "cafe9339",
   "metadata": {},
   "source": [
    "Step 3: Analyze training loss through epochs"
   ]
  },
  {
   "cell_type": "code",
   "execution_count": null,
   "id": "e86e6772",
   "metadata": {},
   "outputs": [],
   "source": [
    "plt.figure(figsize=(20,5))\n",
    "\n",
    "# plt.plot(rnn_history, marker='.', color='blue', label='Vanilla RNN')\n",
    "# plt.plot(binn_history, marker='.', color='gold', label='BiNN')\n",
    "plt.plot(gru_history, marker='.', color='red', label='GRU')\n",
    "plt.plot(lstm_history, marker='.', color='green', label='LSTM')\n",
    "plt.title('Training MSE Evolution')\n",
    "plt.xlabel('Epochs')\n",
    "plt.legend()\n",
    "plt.show()"
   ]
  },
  {
   "cell_type": "markdown",
   "id": "d3705a17",
   "metadata": {},
   "source": [
    "Step 4: Predict Outputs"
   ]
  },
  {
   "cell_type": "code",
   "execution_count": null,
   "id": "4eab1dec",
   "metadata": {},
   "outputs": [],
   "source": [
    "with torch.no_grad():\n",
    "    Y_train_pred_gru = gru._forward_pass(X_train)\n",
    "    Y_test_pred_gru = gru._forward_pass(X_test)\n",
    "    Y_train_pred_lstm = lstm._forward_pass(X_train)\n",
    "    Y_test_pred_lstm = lstm._forward_pass(X_test)"
   ]
  },
  {
   "cell_type": "markdown",
   "id": "575ea229",
   "metadata": {},
   "source": [
    "Step 5: Visualize Predictions"
   ]
  },
  {
   "cell_type": "code",
   "execution_count": null,
   "id": "6e09ebb9",
   "metadata": {},
   "outputs": [],
   "source": [
    "plt.figure(figsize=(15, 10))\n",
    "\n",
    "# Training results\n",
    "plt.subplot(2, 1, 1)\n",
    "plt.plot(Y_train[:, 0], color='black', label='True')\n",
    "plt.plot(Y_train_pred_gru[:, 0], '--', color='red', label='GRU')\n",
    "plt.plot(Y_train_pred_lstm[:, 0], '--', color='green', label='LSTM')\n",
    "plt.title(f'Training Sequence\\n(X: {X_train.shape}, Y: {Y_train.shape})')\n",
    "plt.xlabel('Timesteps')\n",
    "plt.legend()\n",
    "\n",
    "# Test results\n",
    "plt.subplot(2, 1, 2)\n",
    "plt.plot(Y_test[:, 0], color='black', label='True')\n",
    "plt.plot(Y_test_pred_gru[:, 0], '--', color='red', label='GRU')\n",
    "plt.plot(Y_test_pred_lstm[:, 0], '--', color='green', label='LSTM')\n",
    "plt.title(f'Test Sequence\\n(X: {X_test.shape}, Y: {Y_test.shape})')\n",
    "plt.xlabel('Timesteps')\n",
    "plt.legend()\n",
    "\n",
    "plt.tight_layout()\n",
    "plt.show()\n"
   ]
  },
  {
   "cell_type": "markdown",
   "id": "3c94e760",
   "metadata": {},
   "source": [
    "Step 6: Evaluate MSE Loss"
   ]
  },
  {
   "cell_type": "code",
   "execution_count": null,
   "id": "44390276",
   "metadata": {},
   "outputs": [],
   "source": [
    "train_mse_gru = torch.mean((Y_train_pred_gru - Y_train)**2).item()\n",
    "test_mse_gru = torch.mean((Y_test_pred_gru - Y_test)**2).item()\n",
    "print(f'\\nGRU:\\nTrain: {train_mse_gru:.5f}\\nTest: {test_mse_gru:.5f}')\n",
    "\n",
    "train_mse_lstm = torch.mean((Y_train_pred_lstm - Y_train)**2).item()\n",
    "test_mse_lstm = torch.mean((Y_test_pred_lstm - Y_test)**2).item()\n",
    "print(f'\\nLSTM:\\nTrain: {train_mse_lstm:.5f}\\nTest: {test_mse_lstm:.5f}')"
   ]
  }
 ],
 "metadata": {
  "kernelspec": {
   "display_name": "Python 3",
   "language": "python",
   "name": "python3"
  },
  "language_info": {
   "codemirror_mode": {
    "name": "ipython",
    "version": 3
   },
   "file_extension": ".py",
   "mimetype": "text/x-python",
   "name": "python",
   "nbconvert_exporter": "python",
   "pygments_lexer": "ipython3",
   "version": "3.10.11"
  }
 },
 "nbformat": 4,
 "nbformat_minor": 5
}
